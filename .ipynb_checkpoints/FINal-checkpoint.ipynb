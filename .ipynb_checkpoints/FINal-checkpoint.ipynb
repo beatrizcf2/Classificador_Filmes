{
 "cells": [
  {
   "cell_type": "markdown",
   "metadata": {},
   "source": [
    "# PROJETO 2 - Predição da Receita de um Filme\n",
    "\n",
    "Alunos: **[Beatriz Cabral](https://github.com/beatrizcf2) | [Gianlucca](https://github.com/) | [Pietro Abe Seixas](https://github.com/pi-seixas)\n",
    "\n",
    "[*INSPER - INSTITUTO DE ENSINO E PESQUISA*](https://www.insper.edu.br/)\n",
    "\n",
    "\n",
    "## 1.Introdução\n",
    "\n",
    "O principal objetivo deste projeto é fazer a previsão da receita de um filme, com base em suas variáveis. . A partir disso, guiaremos nosso projeto utilizando técnicas de machine learning, visando alcancar esse objetivo."
   ]
  },
  {
   "cell_type": "markdown",
   "metadata": {},
   "source": [
    "## 2. Características do Dataset e Minerando os Dados\n",
    "\n",
    "### 2.2 Minerando os Dados\n",
    "\n",
    "O dataset utilizado aqui é uma junção de 3 arquivos e conta com alguns arquivos que trazem diferentes informações sobre cerca de 45000 filmes lançados até julho de 2017. Tais informações incluem elenco, equipe, palavras-chave para enredo, orçamento, receita, link para pôsteres, datas de lançamento, idiomas, empresas de produção, países, contagem de votos no TMDB e média de votos. O dataset foi obtido na plataforma kaggle através desse [link](https://www.kaggle.com/rounakbanik/the-movies-dataset). A fim de atender as nossas necessidades, o Dataset precisou ser filtrado para remover entradas indesejadas (Ex: dados fora do padrão). \n",
    "\n",
    "\n",
    "Além disso, escolhemos remover os filmes com receita igual a zero, uma vez que tal fato pode estar atrelado a falta de informação sobre tal variável e filmes que não estavam com o status *released*, pois nosso interesse é analisar apenas filmes que foram laçados. Feito isso, seguimos filtrando as colunas, cujas variáveis fossem relevantes à nossa análise, de forma a reduzir de 24 variáveis originalmente, para x. Vale ressaltar também que algumas variáveis estavam com seus dados em formato de json, e foi necessário transformá-las em formato de lista (seguimos o que foi feito nesse [site](https://www.kaggle.com/rounakbanik/movie-recommender-systems)\n",
    "\n",
    "\n",
    "**Obs:** As linhas 19730, 29503 e 35587 foram removidas, pois não estavam de acordo com o padrão dos dados\n",
    "\n",
    "#### Importando as bibliotecas"
   ]
  },
  {
   "cell_type": "code",
   "execution_count": 98,
   "metadata": {},
   "outputs": [],
   "source": [
    "%matplotlib inline\n",
    "import pandas as pd\n",
    "import numpy as np\n",
    "import matplotlib.pyplot as plt\n",
    "import seaborn as sns\n",
    "from scipy import stats\n",
    "from ast import literal_eval\n",
    "import statsmodels.api as sm "
   ]
  },
  {
   "cell_type": "markdown",
   "metadata": {},
   "source": [
    "#### Fazendo a leitura do arquivo"
   ]
  },
  {
   "cell_type": "code",
   "execution_count": 2,
   "metadata": {},
   "outputs": [
    {
     "name": "stderr",
     "output_type": "stream",
     "text": [
      "/anaconda3/lib/python3.7/site-packages/IPython/core/interactiveshell.py:3020: DtypeWarning: Columns (10) have mixed types. Specify dtype option on import or set low_memory=False.\n",
      "  interactivity=interactivity, compiler=compiler, result=result)\n"
     ]
    }
   ],
   "source": [
    "metadados = pd.read_csv('movies_metadata.csv')\n",
    "credits = pd.read_csv('credits.csv')"
   ]
  },
  {
   "cell_type": "code",
   "execution_count": 3,
   "metadata": {},
   "outputs": [],
   "source": [
    "#removendo linhas\n",
    "metadados = metadados.drop([19730, 29503, 35587])"
   ]
  },
  {
   "cell_type": "code",
   "execution_count": 4,
   "metadata": {},
   "outputs": [],
   "source": [
    "# transformando id em inteiro para facilitar acesso posteriormente\n",
    "credits['id'] = credits['id'].astype('int')\n",
    "metadados['id'] = metadados['id'].astype('int')\n",
    "metadados['budget'] = metadados['budget'].astype('float')"
   ]
  },
  {
   "cell_type": "code",
   "execution_count": 5,
   "metadata": {},
   "outputs": [],
   "source": [
    "#juntando os dados em um unico dataframe\n",
    "metadados = metadados.merge(credits, on='id')"
   ]
  },
  {
   "cell_type": "code",
   "execution_count": 6,
   "metadata": {},
   "outputs": [],
   "source": [
    "#transformando\n",
    "metadados['cast'] = metadados['cast'].apply(literal_eval)\n",
    "metadados['crew'] = metadados['crew'].apply(literal_eval)\n",
    "\n",
    "#criando duas novas variável sobre o tamanho do cast e do crew\n",
    "metadados['cast_size'] = metadados['cast'].apply(lambda x: len(x))\n",
    "metadados['crew_size'] = metadados['crew'].apply(lambda x: len(x))"
   ]
  },
  {
   "cell_type": "code",
   "execution_count": 7,
   "metadata": {},
   "outputs": [],
   "source": [
    "# funcao para separar o diretor das demais infos\n",
    "def get_director(x):\n",
    "    for i in x:\n",
    "        if i['job'] == 'Director':\n",
    "            return i['name']\n",
    "    return np.nan\n",
    "\n",
    "#separando o diretor e criando uma nova variável\n",
    "metadados['director'] = metadados['crew'].apply(get_director)"
   ]
  },
  {
   "cell_type": "code",
   "execution_count": 8,
   "metadata": {},
   "outputs": [],
   "source": [
    "#separando os 3 principais membros do cast e criando uma nova variavel em forma de lista\n",
    "metadados['cast'] = metadados['cast'].apply(lambda x: [i['name'] for i in x] if isinstance(x, list) else [])\n",
    "metadados['cast'] = metadados['cast'].apply(lambda x: x[:3] if len(x) >=3 else x)"
   ]
  },
  {
   "cell_type": "code",
   "execution_count": 9,
   "metadata": {},
   "outputs": [],
   "source": [
    "#separando os generos do arquivio json\n",
    "metadados['genres'] = metadados['genres'].fillna('[]').apply(literal_eval).apply(lambda x: [i['name'] for i in x] if isinstance(x, list) else [])\n",
    "\n",
    "#fazendo o mesmo para as produtoras\n",
    "metadados['production_companies'] = metadados['production_companies'].fillna('[]').apply(literal_eval).apply(lambda x: [i['name'] for i in x] if isinstance(x, list) else [])\n"
   ]
  },
  {
   "cell_type": "code",
   "execution_count": 10,
   "metadata": {},
   "outputs": [],
   "source": [
    "#removendo valores nulos\n",
    "metadados['revenue'] = metadados['revenue'].replace(0, np.nan)\n",
    "metadados['budget'] = metadados['budget'].replace(0, np.nan)"
   ]
  },
  {
   "cell_type": "code",
   "execution_count": 11,
   "metadata": {},
   "outputs": [],
   "source": [
    "filtra_status = metadados.status == 'Released'\n",
    "metadados['status'] = metadados.loc[filtra_status,'status'] "
   ]
  },
  {
   "cell_type": "code",
   "execution_count": 12,
   "metadata": {},
   "outputs": [],
   "source": [
    "#removendo NaN's\n",
    "metadados = metadados.dropna(subset=['revenue'])"
   ]
  },
  {
   "cell_type": "code",
   "execution_count": 13,
   "metadata": {
    "scrolled": false
   },
   "outputs": [
    {
     "data": {
      "text/plain": [
       "(7428, 29)"
      ]
     },
     "execution_count": 13,
     "metadata": {},
     "output_type": "execute_result"
    }
   ],
   "source": [
    "metadados.shape"
   ]
  },
  {
   "cell_type": "code",
   "execution_count": 14,
   "metadata": {},
   "outputs": [],
   "source": [
    "#separando a variavel release_date em 3 novas \n",
    "date = pd.to_datetime(metadados.loc[:,'release_date'].astype(str))\n",
    "year = date.dt.year\n",
    "week = date.dt.week\n",
    "month = date.dt.month\n",
    "metadados.loc[:,'year'] = year\n",
    "metadados.loc[:,'week'] = week\n",
    "metadados.loc[:,'month'] = month"
   ]
  },
  {
   "cell_type": "markdown",
   "metadata": {},
   "source": [
    "Abaixo transformamos a variavel belongs_to_collection em uma variavel booleana . Sendo assim, temos:\n",
    "* **0** - significa que o filme nao pertence a nenhuma colecao\n",
    "* **1** - significa que o filme pertence a uma colecao"
   ]
  },
  {
   "cell_type": "code",
   "execution_count": 15,
   "metadata": {},
   "outputs": [],
   "source": [
    "# transformando belongs_to_collection em boolean\n",
    "metadados['belongs_to_collection'] = metadados['belongs_to_collection'].replace(np.nan, 0)\n",
    "filtra_collection = metadados.belongs_to_collection != 0\n",
    "metadados.loc[filtra_collection,'belongs_to_collection'] = 1"
   ]
  },
  {
   "cell_type": "code",
   "execution_count": 16,
   "metadata": {},
   "outputs": [],
   "source": [
    "# removendo variáveis não importantes e setando a váriavel id como index\n",
    "metadados = metadados.drop(['original_title', 'imdb_id', 'poster_path','adult','homepage', 'overview', 'popularity', 'spoken_languages', 'status', 'vote_average', 'vote_count', 'tagline', 'video', 'production_countries','crew', 'release_date'], axis=1)\n",
    "metadados = metadados.set_index('id')"
   ]
  },
  {
   "cell_type": "code",
   "execution_count": 17,
   "metadata": {},
   "outputs": [
    {
     "data": {
      "text/html": [
       "<div>\n",
       "<style scoped>\n",
       "    .dataframe tbody tr th:only-of-type {\n",
       "        vertical-align: middle;\n",
       "    }\n",
       "\n",
       "    .dataframe tbody tr th {\n",
       "        vertical-align: top;\n",
       "    }\n",
       "\n",
       "    .dataframe thead th {\n",
       "        text-align: right;\n",
       "    }\n",
       "</style>\n",
       "<table border=\"1\" class=\"dataframe\">\n",
       "  <thead>\n",
       "    <tr style=\"text-align: right;\">\n",
       "      <th></th>\n",
       "      <th>belongs_to_collection</th>\n",
       "      <th>budget</th>\n",
       "      <th>genres</th>\n",
       "      <th>original_language</th>\n",
       "      <th>production_companies</th>\n",
       "      <th>revenue</th>\n",
       "      <th>runtime</th>\n",
       "      <th>title</th>\n",
       "      <th>cast</th>\n",
       "      <th>cast_size</th>\n",
       "      <th>crew_size</th>\n",
       "      <th>director</th>\n",
       "      <th>year</th>\n",
       "      <th>week</th>\n",
       "      <th>month</th>\n",
       "    </tr>\n",
       "    <tr>\n",
       "      <th>id</th>\n",
       "      <th></th>\n",
       "      <th></th>\n",
       "      <th></th>\n",
       "      <th></th>\n",
       "      <th></th>\n",
       "      <th></th>\n",
       "      <th></th>\n",
       "      <th></th>\n",
       "      <th></th>\n",
       "      <th></th>\n",
       "      <th></th>\n",
       "      <th></th>\n",
       "      <th></th>\n",
       "      <th></th>\n",
       "      <th></th>\n",
       "    </tr>\n",
       "  </thead>\n",
       "  <tbody>\n",
       "    <tr>\n",
       "      <th>862</th>\n",
       "      <td>1</td>\n",
       "      <td>30000000.0</td>\n",
       "      <td>[Animation, Comedy, Family]</td>\n",
       "      <td>en</td>\n",
       "      <td>[Pixar Animation Studios]</td>\n",
       "      <td>373554033.0</td>\n",
       "      <td>81.0</td>\n",
       "      <td>Toy Story</td>\n",
       "      <td>[Tom Hanks, Tim Allen, Don Rickles]</td>\n",
       "      <td>13</td>\n",
       "      <td>106</td>\n",
       "      <td>John Lasseter</td>\n",
       "      <td>1995.0</td>\n",
       "      <td>44.0</td>\n",
       "      <td>10.0</td>\n",
       "    </tr>\n",
       "    <tr>\n",
       "      <th>8844</th>\n",
       "      <td>0</td>\n",
       "      <td>65000000.0</td>\n",
       "      <td>[Adventure, Fantasy, Family]</td>\n",
       "      <td>en</td>\n",
       "      <td>[TriStar Pictures, Teitler Film, Interscope Co...</td>\n",
       "      <td>262797249.0</td>\n",
       "      <td>104.0</td>\n",
       "      <td>Jumanji</td>\n",
       "      <td>[Robin Williams, Jonathan Hyde, Kirsten Dunst]</td>\n",
       "      <td>26</td>\n",
       "      <td>16</td>\n",
       "      <td>Joe Johnston</td>\n",
       "      <td>1995.0</td>\n",
       "      <td>50.0</td>\n",
       "      <td>12.0</td>\n",
       "    </tr>\n",
       "    <tr>\n",
       "      <th>31357</th>\n",
       "      <td>0</td>\n",
       "      <td>16000000.0</td>\n",
       "      <td>[Comedy, Drama, Romance]</td>\n",
       "      <td>en</td>\n",
       "      <td>[Twentieth Century Fox Film Corporation]</td>\n",
       "      <td>81452156.0</td>\n",
       "      <td>127.0</td>\n",
       "      <td>Waiting to Exhale</td>\n",
       "      <td>[Whitney Houston, Angela Bassett, Loretta Devine]</td>\n",
       "      <td>10</td>\n",
       "      <td>10</td>\n",
       "      <td>Forest Whitaker</td>\n",
       "      <td>1995.0</td>\n",
       "      <td>51.0</td>\n",
       "      <td>12.0</td>\n",
       "    </tr>\n",
       "    <tr>\n",
       "      <th>11862</th>\n",
       "      <td>1</td>\n",
       "      <td>NaN</td>\n",
       "      <td>[Comedy]</td>\n",
       "      <td>en</td>\n",
       "      <td>[Sandollar Productions, Touchstone Pictures]</td>\n",
       "      <td>76578911.0</td>\n",
       "      <td>106.0</td>\n",
       "      <td>Father of the Bride Part II</td>\n",
       "      <td>[Steve Martin, Diane Keaton, Martin Short]</td>\n",
       "      <td>12</td>\n",
       "      <td>7</td>\n",
       "      <td>Charles Shyer</td>\n",
       "      <td>1995.0</td>\n",
       "      <td>6.0</td>\n",
       "      <td>2.0</td>\n",
       "    </tr>\n",
       "    <tr>\n",
       "      <th>949</th>\n",
       "      <td>0</td>\n",
       "      <td>60000000.0</td>\n",
       "      <td>[Action, Crime, Drama, Thriller]</td>\n",
       "      <td>en</td>\n",
       "      <td>[Regency Enterprises, Forward Pass, Warner Bros.]</td>\n",
       "      <td>187436818.0</td>\n",
       "      <td>170.0</td>\n",
       "      <td>Heat</td>\n",
       "      <td>[Al Pacino, Robert De Niro, Val Kilmer]</td>\n",
       "      <td>65</td>\n",
       "      <td>71</td>\n",
       "      <td>Michael Mann</td>\n",
       "      <td>1995.0</td>\n",
       "      <td>50.0</td>\n",
       "      <td>12.0</td>\n",
       "    </tr>\n",
       "  </tbody>\n",
       "</table>\n",
       "</div>"
      ],
      "text/plain": [
       "       belongs_to_collection      budget                            genres  \\\n",
       "id                                                                           \n",
       "862                        1  30000000.0       [Animation, Comedy, Family]   \n",
       "8844                       0  65000000.0      [Adventure, Fantasy, Family]   \n",
       "31357                      0  16000000.0          [Comedy, Drama, Romance]   \n",
       "11862                      1         NaN                          [Comedy]   \n",
       "949                        0  60000000.0  [Action, Crime, Drama, Thriller]   \n",
       "\n",
       "      original_language                               production_companies  \\\n",
       "id                                                                           \n",
       "862                  en                          [Pixar Animation Studios]   \n",
       "8844                 en  [TriStar Pictures, Teitler Film, Interscope Co...   \n",
       "31357                en           [Twentieth Century Fox Film Corporation]   \n",
       "11862                en       [Sandollar Productions, Touchstone Pictures]   \n",
       "949                  en  [Regency Enterprises, Forward Pass, Warner Bros.]   \n",
       "\n",
       "           revenue  runtime                        title  \\\n",
       "id                                                         \n",
       "862    373554033.0     81.0                    Toy Story   \n",
       "8844   262797249.0    104.0                      Jumanji   \n",
       "31357   81452156.0    127.0            Waiting to Exhale   \n",
       "11862   76578911.0    106.0  Father of the Bride Part II   \n",
       "949    187436818.0    170.0                         Heat   \n",
       "\n",
       "                                                    cast  cast_size  \\\n",
       "id                                                                    \n",
       "862                  [Tom Hanks, Tim Allen, Don Rickles]         13   \n",
       "8844      [Robin Williams, Jonathan Hyde, Kirsten Dunst]         26   \n",
       "31357  [Whitney Houston, Angela Bassett, Loretta Devine]         10   \n",
       "11862         [Steve Martin, Diane Keaton, Martin Short]         12   \n",
       "949              [Al Pacino, Robert De Niro, Val Kilmer]         65   \n",
       "\n",
       "       crew_size         director    year  week  month  \n",
       "id                                                      \n",
       "862          106    John Lasseter  1995.0  44.0   10.0  \n",
       "8844          16     Joe Johnston  1995.0  50.0   12.0  \n",
       "31357         10  Forest Whitaker  1995.0  51.0   12.0  \n",
       "11862          7    Charles Shyer  1995.0   6.0    2.0  \n",
       "949           71     Michael Mann  1995.0  50.0   12.0  "
      ]
     },
     "execution_count": 17,
     "metadata": {},
     "output_type": "execute_result"
    }
   ],
   "source": [
    "metadados.head()"
   ]
  },
  {
   "cell_type": "markdown",
   "metadata": {},
   "source": [
    "### 2.2 Características do Dataset\n",
    "\n",
    " Um resumo do que contém em cada um dos arquivos utilizados:\n",
    "\n",
    "***movies_metadata.csv:*** o principal arquivo de metadados do Movies. Contém informações sobre 45.000 filmes em destaque no conjunto de dados Full MovieLens. Os recursos incluem pôsteres, cenários, orçamento, receita, datas de lançamento, idiomas, países e empresas de produção.\n",
    "\n",
    "***keywords.csv:*** contém as palavras-chave da trama do filme para os filmes MovieLens. \n",
    "\n",
    "***credits.csv:*** Consiste em informações sobre elenco e equipe de todos os nossos filmes. \n",
    "\n",
    "Feito isso, chegamos em um conjunto de dados com 7408 filmes e x variáveis, que estão melhor explicadas a seguir (explicação adaptadas do site [kaggle](https://www.kaggle.com/rounakbanik/the-movies-dataset):\n",
    "\n",
    "* **belongs_to_collection:** A stringified dictionary that gives information on the movie series the particular film belongs to. Será convertida em booleanos para melhor análise.\n",
    "* **budget:** The budget of the movie in dollars.\n",
    "* **genres:** A stringified list of dictionaries that list out all the genres associated with the movie.\n",
    "* **homepage:** The Official Homepage of the move.\n",
    "* **id:** The ID of the move.\n",
    "* **imdb_id:** The IMDB ID of the movie.\n",
    "* **original_language:** The language in which the movie was originally shot in.\n",
    "* **production_companies:** A stringified list of production companies involved with the making of the movie.\n",
    "* **production_countries:** A stringified list of countries where the movie was shot/produced in.\n",
    "* **release_date:** Theatrical Release Date of the movie. Será convertida em três novas variáveis: ano, mês e semana de lançamento.\n",
    "* **revenue:** The total revenue of the movie in dollars.\n",
    "* **runtime:** The runtime of the movie in minutes.\n",
    "* **title:** The Official Title of the movie.\n",
    "* **vote_average:** The average rating of the movie.\n",
    "* **vote_count:** The number of votes by users, as counted by TMDB.\n",
    "\n",
    "As variáveis removidas sao:\n",
    "* **adult:** Indicates if the movie is X-Rated or Adult.\n",
    "* **homepage:** The Official Homepage of the move.\n",
    "* **imdb_id:** The IMDB ID of the movie.\n",
    "* **original_title:** The original title of the movie.\n",
    "* **overview:** A brief blurb of the movie.\n",
    "* **popularity:** The Popularity Score assigned by TMDB.\n",
    "* **poster_path:** The URL of the poster image.\n",
    "* **spoken_languages:** A stringified list of spoken languages in the film.\n",
    "* **status:** The status of the movie (Released, To Be Released, Announced, etc.)\n",
    "* **vote_average:** The average rating of the movie.\n",
    "* **vote_count:** The number of votes by users, as counted by TMDB.\n",
    "* **tagline**\n",
    "* **production_countries:** A stringified list of countries where the movie was shot/produced in."
   ]
  },
  {
   "cell_type": "markdown",
   "metadata": {},
   "source": [
    "### Breve análise exploratória dos dados"
   ]
  },
  {
   "cell_type": "code",
   "execution_count": 18,
   "metadata": {
    "scrolled": true
   },
   "outputs": [
    {
     "data": {
      "text/html": [
       "<div>\n",
       "<style scoped>\n",
       "    .dataframe tbody tr th:only-of-type {\n",
       "        vertical-align: middle;\n",
       "    }\n",
       "\n",
       "    .dataframe tbody tr th {\n",
       "        vertical-align: top;\n",
       "    }\n",
       "\n",
       "    .dataframe thead th {\n",
       "        text-align: right;\n",
       "    }\n",
       "</style>\n",
       "<table border=\"1\" class=\"dataframe\">\n",
       "  <thead>\n",
       "    <tr style=\"text-align: right;\">\n",
       "      <th></th>\n",
       "      <th>belongs_to_collection</th>\n",
       "      <th>budget</th>\n",
       "      <th>revenue</th>\n",
       "      <th>runtime</th>\n",
       "      <th>cast_size</th>\n",
       "      <th>crew_size</th>\n",
       "      <th>year</th>\n",
       "      <th>week</th>\n",
       "      <th>month</th>\n",
       "    </tr>\n",
       "  </thead>\n",
       "  <tbody>\n",
       "    <tr>\n",
       "      <th>count</th>\n",
       "      <td>7428.000000</td>\n",
       "      <td>5.393000e+03</td>\n",
       "      <td>7.428000e+03</td>\n",
       "      <td>7422.000000</td>\n",
       "      <td>7428.000000</td>\n",
       "      <td>7428.000000</td>\n",
       "      <td>7427.000000</td>\n",
       "      <td>7427.000000</td>\n",
       "      <td>7427.000000</td>\n",
       "    </tr>\n",
       "    <tr>\n",
       "      <th>mean</th>\n",
       "      <td>0.200188</td>\n",
       "      <td>3.106844e+07</td>\n",
       "      <td>6.864948e+07</td>\n",
       "      <td>107.699811</td>\n",
       "      <td>21.334006</td>\n",
       "      <td>24.884760</td>\n",
       "      <td>1999.619766</td>\n",
       "      <td>28.098694</td>\n",
       "      <td>6.847179</td>\n",
       "    </tr>\n",
       "    <tr>\n",
       "      <th>std</th>\n",
       "      <td>0.400168</td>\n",
       "      <td>4.012743e+07</td>\n",
       "      <td>1.462517e+08</td>\n",
       "      <td>21.463228</td>\n",
       "      <td>18.848536</td>\n",
       "      <td>30.113589</td>\n",
       "      <td>15.512044</td>\n",
       "      <td>14.762208</td>\n",
       "      <td>3.386845</td>\n",
       "    </tr>\n",
       "    <tr>\n",
       "      <th>min</th>\n",
       "      <td>0.000000</td>\n",
       "      <td>1.000000e+00</td>\n",
       "      <td>1.000000e+00</td>\n",
       "      <td>0.000000</td>\n",
       "      <td>0.000000</td>\n",
       "      <td>0.000000</td>\n",
       "      <td>1915.000000</td>\n",
       "      <td>1.000000</td>\n",
       "      <td>1.000000</td>\n",
       "    </tr>\n",
       "    <tr>\n",
       "      <th>25%</th>\n",
       "      <td>0.000000</td>\n",
       "      <td>5.000000e+06</td>\n",
       "      <td>2.384120e+06</td>\n",
       "      <td>94.000000</td>\n",
       "      <td>11.000000</td>\n",
       "      <td>8.000000</td>\n",
       "      <td>1992.000000</td>\n",
       "      <td>15.000000</td>\n",
       "      <td>4.000000</td>\n",
       "    </tr>\n",
       "    <tr>\n",
       "      <th>50%</th>\n",
       "      <td>0.000000</td>\n",
       "      <td>1.700000e+07</td>\n",
       "      <td>1.680970e+07</td>\n",
       "      <td>104.000000</td>\n",
       "      <td>16.000000</td>\n",
       "      <td>14.000000</td>\n",
       "      <td>2004.000000</td>\n",
       "      <td>29.000000</td>\n",
       "      <td>7.000000</td>\n",
       "    </tr>\n",
       "    <tr>\n",
       "      <th>75%</th>\n",
       "      <td>0.000000</td>\n",
       "      <td>4.000000e+07</td>\n",
       "      <td>6.713019e+07</td>\n",
       "      <td>118.000000</td>\n",
       "      <td>24.000000</td>\n",
       "      <td>29.000000</td>\n",
       "      <td>2011.000000</td>\n",
       "      <td>40.000000</td>\n",
       "      <td>10.000000</td>\n",
       "    </tr>\n",
       "    <tr>\n",
       "      <th>max</th>\n",
       "      <td>1.000000</td>\n",
       "      <td>3.800000e+08</td>\n",
       "      <td>2.787965e+09</td>\n",
       "      <td>338.000000</td>\n",
       "      <td>313.000000</td>\n",
       "      <td>435.000000</td>\n",
       "      <td>2017.000000</td>\n",
       "      <td>53.000000</td>\n",
       "      <td>12.000000</td>\n",
       "    </tr>\n",
       "  </tbody>\n",
       "</table>\n",
       "</div>"
      ],
      "text/plain": [
       "       belongs_to_collection        budget       revenue      runtime  \\\n",
       "count            7428.000000  5.393000e+03  7.428000e+03  7422.000000   \n",
       "mean                0.200188  3.106844e+07  6.864948e+07   107.699811   \n",
       "std                 0.400168  4.012743e+07  1.462517e+08    21.463228   \n",
       "min                 0.000000  1.000000e+00  1.000000e+00     0.000000   \n",
       "25%                 0.000000  5.000000e+06  2.384120e+06    94.000000   \n",
       "50%                 0.000000  1.700000e+07  1.680970e+07   104.000000   \n",
       "75%                 0.000000  4.000000e+07  6.713019e+07   118.000000   \n",
       "max                 1.000000  3.800000e+08  2.787965e+09   338.000000   \n",
       "\n",
       "         cast_size    crew_size         year         week        month  \n",
       "count  7428.000000  7428.000000  7427.000000  7427.000000  7427.000000  \n",
       "mean     21.334006    24.884760  1999.619766    28.098694     6.847179  \n",
       "std      18.848536    30.113589    15.512044    14.762208     3.386845  \n",
       "min       0.000000     0.000000  1915.000000     1.000000     1.000000  \n",
       "25%      11.000000     8.000000  1992.000000    15.000000     4.000000  \n",
       "50%      16.000000    14.000000  2004.000000    29.000000     7.000000  \n",
       "75%      24.000000    29.000000  2011.000000    40.000000    10.000000  \n",
       "max     313.000000   435.000000  2017.000000    53.000000    12.000000  "
      ]
     },
     "execution_count": 18,
     "metadata": {},
     "output_type": "execute_result"
    }
   ],
   "source": [
    "metadados.describe()"
   ]
  },
  {
   "cell_type": "markdown",
   "metadata": {},
   "source": [
    "É possível perceber que a nossa variável target tem uma maior concentração em valores próximos de 1 a 10 milhões de dólares. Para observarmos melhor como essa variável é distribuída, plotamos o histograma de densidade abaixo, que lembra muito uma distribuição exponencial."
   ]
  },
  {
   "cell_type": "code",
   "execution_count": 57,
   "metadata": {},
   "outputs": [
    {
     "data": {
      "image/png": "[encoded data removed]",
      "text/plain": [
       "<Figure size 432x288 with 1 Axes>"
      ]
     },
     "metadata": {
      "needs_background": "light"
     },
     "output_type": "display_data"
    }
   ],
   "source": [
    "mu_r = metadados.revenue.mean()\n",
    "x_r = np.linspace(0,10**9,100000)\n",
    "y_r = stats.expon.pdf(x_r, scale=mu_r)\n",
    "plt.plot(x_r, y_r, color='r')\n",
    "metadados.revenue.plot.hist(density = True, bins = 100)\n",
    "plt.ylabel('densidade')\n",
    "plt.xlabel('valores de x')\n",
    "plt.title('Função densidade de probabilidade')\n",
    "plt.show()\n",
    "\n"
   ]
  },
  {
   "cell_type": "markdown",
   "metadata": {},
   "source": [
    "Decidimos analisar também a variável budget, e percebemos a seguir que ela também se distribui exponencialmente. É interessante observar também que como mais de 25% dos dados de budget são nulos, há uma grande densidade dos valores de x em 0."
   ]
  },
  {
   "cell_type": "code",
   "execution_count": 58,
   "metadata": {
    "scrolled": true
   },
   "outputs": [
    {
     "data": {
      "image/png": "[encoded data removed]",
      "text/plain": [
       "<Figure size 432x288 with 1 Axes>"
      ]
     },
     "metadata": {
      "needs_background": "light"
     },
     "output_type": "display_data"
    }
   ],
   "source": [
    "mu_b = metadados.budget.mean()\n",
    "x_b = np.linspace(0,3.8*10**8,100000)\n",
    "y_b = stats.expon.pdf(x_b, scale=mu_b)\n",
    "plt.plot(x_b, y_b, color='r')\n",
    "metadados.budget.plot.hist(density = True, bins = 100)\n",
    "plt.ylabel('densidade')\n",
    "plt.xlabel('valores de x')\n",
    "plt.title('Função densidade de probabilidade')\n",
    "plt.show()"
   ]
  },
  {
   "cell_type": "markdown",
   "metadata": {},
   "source": [
    "Desta forma, se plotarmos um gráfico de dispersão, observa-se uma certa correlação positiva entre essas duas variáveis"
   ]
  },
  {
   "cell_type": "code",
   "execution_count": 94,
   "metadata": {},
   "outputs": [
    {
     "name": "stdout",
     "output_type": "stream",
     "text": [
      "Correlacao de budget e revenue: 0.7302395742395674\n"
     ]
    },
    {
     "data": {
      "image/png": "[encoded data removed]",
      "text/plain": [
       "<Figure size 432x288 with 1 Axes>"
      ]
     },
     "metadata": {
      "needs_background": "light"
     },
     "output_type": "display_data"
    }
   ],
   "source": [
    "x_dados = metadados.budget # Definindo budget como explicativa\n",
    "y_dados = metadados.revenue   # Definindo revenue como resposta\n",
    "\n",
    "plt.scatter(x_dados,y_dados, alpha=0.4);\n",
    "plt.xlabel(\"x: budget\");\n",
    "plt.ylabel(\"y: revenue\");\n",
    "print('Correlacao de budget e revenue: {0}'.format(metadados.budget.corr(metadados.revenue)))"
   ]
  },
  {
   "cell_type": "markdown",
   "metadata": {},
   "source": [
    "Seguindo adiante em nossa análise exploratória, "
   ]
  },
  {
   "cell_type": "code",
   "execution_count": 82,
   "metadata": {
    "scrolled": false
   },
   "outputs": [
    {
     "data": {
      "text/plain": [
       "[]"
      ]
     },
     "execution_count": 82,
     "metadata": {},
     "output_type": "execute_result"
    },
    {
     "data": {
      "image/png": "[encoded data removed]",
      "text/plain": [
       "<Figure size 1080x720 with 2 Axes>"
      ]
     },
     "metadata": {
      "needs_background": "light"
     },
     "output_type": "display_data"
    }
   ],
   "source": [
    "fig = plt.figure(figsize=(15, 10))\n",
    "\n",
    "plt.subplot(1, 2, 1)\n",
    "metadados.belongs_to_collection.value_counts().plot(kind='bar')\n",
    "plt.title('Frequência Relativa Pertence a coleção')\n",
    "plt.plot()\n",
    "\n",
    "\n",
    "plt.subplot(1, 2, 2)\n",
    "directortop10 = metadados.director.value_counts().head(30)\n",
    "d10 = metadados.loc[metadados.director.isin(directortop10.index),:]\n",
    "d10.director.value_counts().plot(kind='bar')\n",
    "plt.title('Diretores mais frequentes')\n",
    "plt.plot()\n"
   ]
  },
  {
   "cell_type": "code",
   "execution_count": null,
   "metadata": {},
   "outputs": [],
   "source": [
    "year_count = df.groupby('year')['title'].count()\n",
    "plt.figure(figsize=(18,5))\n",
    "year_count.plot()"
   ]
  },
  {
   "cell_type": "code",
   "execution_count": 75,
   "metadata": {},
   "outputs": [
    {
     "data": {
      "text/html": [
       "<div>\n",
       "<style scoped>\n",
       "    .dataframe tbody tr th:only-of-type {\n",
       "        vertical-align: middle;\n",
       "    }\n",
       "\n",
       "    .dataframe tbody tr th {\n",
       "        vertical-align: top;\n",
       "    }\n",
       "\n",
       "    .dataframe thead th {\n",
       "        text-align: right;\n",
       "    }\n",
       "</style>\n",
       "<table border=\"1\" class=\"dataframe\">\n",
       "  <thead>\n",
       "    <tr style=\"text-align: right;\">\n",
       "      <th></th>\n",
       "      <th>revenue</th>\n",
       "    </tr>\n",
       "    <tr>\n",
       "      <th>director</th>\n",
       "      <th></th>\n",
       "    </tr>\n",
       "  </thead>\n",
       "  <tbody>\n",
       "    <tr>\n",
       "      <th>Steven Spielberg</th>\n",
       "      <td>9.256621e+09</td>\n",
       "    </tr>\n",
       "    <tr>\n",
       "      <th>Peter Jackson</th>\n",
       "      <td>6.528245e+09</td>\n",
       "    </tr>\n",
       "    <tr>\n",
       "      <th>Michael Bay</th>\n",
       "      <td>6.437467e+09</td>\n",
       "    </tr>\n",
       "    <tr>\n",
       "      <th>James Cameron</th>\n",
       "      <td>5.900610e+09</td>\n",
       "    </tr>\n",
       "    <tr>\n",
       "      <th>David Yates</th>\n",
       "      <td>5.334563e+09</td>\n",
       "    </tr>\n",
       "    <tr>\n",
       "      <th>Christopher Nolan</th>\n",
       "      <td>4.747409e+09</td>\n",
       "    </tr>\n",
       "    <tr>\n",
       "      <th>Robert Zemeckis</th>\n",
       "      <td>4.138234e+09</td>\n",
       "    </tr>\n",
       "    <tr>\n",
       "      <th>Tim Burton</th>\n",
       "      <td>4.032916e+09</td>\n",
       "    </tr>\n",
       "    <tr>\n",
       "      <th>Ridley Scott</th>\n",
       "      <td>3.917529e+09</td>\n",
       "    </tr>\n",
       "    <tr>\n",
       "      <th>Chris Columbus</th>\n",
       "      <td>3.866837e+09</td>\n",
       "    </tr>\n",
       "    <tr>\n",
       "      <th>Roland Emmerich</th>\n",
       "      <td>3.798403e+09</td>\n",
       "    </tr>\n",
       "    <tr>\n",
       "      <th>Ron Howard</th>\n",
       "      <td>3.714152e+09</td>\n",
       "    </tr>\n",
       "    <tr>\n",
       "      <th>J.J. Abrams</th>\n",
       "      <td>3.579215e+09</td>\n",
       "    </tr>\n",
       "    <tr>\n",
       "      <th>Gore Verbinski</th>\n",
       "      <td>3.575339e+09</td>\n",
       "    </tr>\n",
       "    <tr>\n",
       "      <th>George Lucas</th>\n",
       "      <td>3.341551e+09</td>\n",
       "    </tr>\n",
       "    <tr>\n",
       "      <th>Sam Raimi</th>\n",
       "      <td>3.193789e+09</td>\n",
       "    </tr>\n",
       "    <tr>\n",
       "      <th>Francis Lawrence</th>\n",
       "      <td>3.183342e+09</td>\n",
       "    </tr>\n",
       "    <tr>\n",
       "      <th>Clint Eastwood</th>\n",
       "      <td>3.100675e+09</td>\n",
       "    </tr>\n",
       "    <tr>\n",
       "      <th>Bill Condon</th>\n",
       "      <td>3.017298e+09</td>\n",
       "    </tr>\n",
       "    <tr>\n",
       "      <th>Joss Whedon</th>\n",
       "      <td>2.963831e+09</td>\n",
       "    </tr>\n",
       "  </tbody>\n",
       "</table>\n",
       "</div>"
      ],
      "text/plain": [
       "                        revenue\n",
       "director                       \n",
       "Steven Spielberg   9.256621e+09\n",
       "Peter Jackson      6.528245e+09\n",
       "Michael Bay        6.437467e+09\n",
       "James Cameron      5.900610e+09\n",
       "David Yates        5.334563e+09\n",
       "Christopher Nolan  4.747409e+09\n",
       "Robert Zemeckis    4.138234e+09\n",
       "Tim Burton         4.032916e+09\n",
       "Ridley Scott       3.917529e+09\n",
       "Chris Columbus     3.866837e+09\n",
       "Roland Emmerich    3.798403e+09\n",
       "Ron Howard         3.714152e+09\n",
       "J.J. Abrams        3.579215e+09\n",
       "Gore Verbinski     3.575339e+09\n",
       "George Lucas       3.341551e+09\n",
       "Sam Raimi          3.193789e+09\n",
       "Francis Lawrence   3.183342e+09\n",
       "Clint Eastwood     3.100675e+09\n",
       "Bill Condon        3.017298e+09\n",
       "Joss Whedon        2.963831e+09"
      ]
     },
     "execution_count": 75,
     "metadata": {},
     "output_type": "execute_result"
    }
   ],
   "source": [
    "metadados.groupby('director')['revenue'].sum().sort_values(ascending=False).head(20).to_frame()"
   ]
  },
  {
   "cell_type": "code",
   "execution_count": null,
   "metadata": {},
   "outputs": [],
   "source": [
    "s = metadados.apply(lambda x: pd.Series(x['cast']),axis=1).stack().reset_index(level=1, drop=True)\n",
    "s.name = 'actor'\n",
    "cast_df = metadados.drop('cast', axis=1).join(s)"
   ]
  },
  {
   "cell_type": "code",
   "execution_count": 90,
   "metadata": {},
   "outputs": [
    {
     "data": {
      "image/png": "[encoded data removed]",
      "text/plain": [
       "<Figure size 1080x720 with 2 Axes>"
      ]
     },
     "metadata": {
      "needs_background": "light"
     },
     "output_type": "display_data"
    }
   ],
   "source": [
    "fig = plt.figure(figsize=(15, 10))\n",
    "\n",
    "plt.subplot(1, 2, 1)\n",
    "plt.title('Actors com a maior receita total')\n",
    "cast_df.groupby('actor')['revenue'].sum().sort_values(ascending=False).head(30).plot(kind='bar')\n",
    "\n",
    "\n",
    "plt.subplot(1, 2, 2)\n",
    "plt.title('Directors with the Highest Total Revenue')\n",
    "metadados.groupby('director')['revenue'].sum().sort_values(ascending=False).head(20).plot(kind='bar', colormap='autumn')\n",
    "plt.show()"
   ]
  },
  {
   "cell_type": "markdown",
   "metadata": {},
   "source": [
    "## 3.  Modelos de Predição\n",
    "\n",
    "Os  Modelos de Predição escolhidos para a nossa análise são:\n",
    "1. ***Regressão Linear Simples***\n",
    "2. ***Regressão de Árvore de Decisão***\n",
    "3. ***k-Vizinhos Mais Próximos***\n",
    "4. ***Random Forest***\n",
    "\n",
    "Abaixo faremos uma breve explicação de cada um deles.\n",
    "\n",
    "\n",
    "### Regressão Linear\n",
    "Por fim, após compreender os conceitos acima, passemos agora para uma breve explicação sobre o conceito de regressão linear. Em termos simples, o que a regressão linear faz, é checar se há uma correlação entre uma variável e outra, mas não só a existência de uma, mas o quão forte ela é, qual variável influencia mais nessa relação e, claro, como o próprio nome já sugere, se esta é uma reação linear, ou seja, se  ́há uma equação do primeiro grau que traduza esta relação de variáveis.\n",
    "A regressão linear pode ser facilmente checada em gráficos de dispersão, nos quais se os pontos estiverem mais próximos e com uma clara direção, seja ela crescente, decrescente ou constante, há clara regressão linear assim como relação entre as variáveis escolhidas.\n",
    "\n",
    "\n",
    "### Árvore de Decisão\n",
    "Decision Trees são um método de machine learning não parametrizado utilizado em classificações e regressões para fazer previsões com dados elas podem manipular dados tanto categóricos quanto\n",
    "numéricos.\n",
    "\n",
    "\n",
    "Elas aprendem informações de um database e chegam a uma\n",
    "estrutura simplificada com perguntas e condições de sim ou não. Começa- se com uma pergunta, e de com base nessa resposta o algoritmo passa para uma nova pergunta e assim por diante, gerando branches de perguntas. Quanto mais branches, profunda é a Decision Tree e, portanto, as regras de decisão e previsão serão mais sofisticadas, e o modelo mais confiável e complexo.\n",
    "\n",
    "\n",
    "As Decision Trees constroem modelos de classificação de regressão na forma de uma estrutura de uma árvore; a cada pergunta ou categoria, ela se divide em branches menores, refinando assim o dado que esta sendo lido e as previsões sobre ele feitas. E por ser uma árvore, esta detém as chamadas perguntas de decisão perguntas folha. Uma perguntas de decisão\n",
    "\n",
    "\n",
    "possui dois ou mais branches subsequentes, enquanto as perguntas folha ‘terminam’ o branch, ou seja, não há mais perguntas a serem respondidas após ela.\n",
    "A pergunta de decisão que começa a Decision Tree corresponde ao fator mais decisivo na classificação de informações e é denominada de pergunta raiz.\n",
    "\n",
    "\n",
    "Vale ressaltar também que as Decision Trees utilizam-se de Machine Learning, para ‘tratar’ os dados, isto é, elas aprender a identificar\n",
    " padrões assim deixando suas previsões mias eficientes e com menos variância.\n",
    " \n",
    " \n",
    "### K Vizinhos mais próximos\n",
    "K-vizinhos mais próximos é um algoritmo de regressão que se baseia em um simples princípio: dados similares existem próximos, ou seja, quanto mais similares os dados forem, mais próximos eles estarão. Para tanto,\n",
    "utilizando-se das equações euclidianas de distância de pontos, este algoritmo determina o quão similares as informações de um database são. Daí o nome de vizinhos mais próximos, pois os pontos em maior proximidade ou seja, os vizinhos serão considerados como mais relevantes para um cálculo de regressão linear por exemplo.\n",
    "\n",
    "\n",
    "\n",
    "### Random Forest\n",
    "Após a definição do que são Decision Trees e para que são utilizadas, passamos para as denominadas Random Forests. Uma floresta, é composta de várias arvores, e, seguindo esta lógica, um poderia facilmente deduzir que uma Random Forest utiliza-se de centenas ou até milhares de Decision Trees.\n",
    "\n",
    "\n",
    "A diferença, porém, das Decision Trees para as Random Forests é como os dados são selecionados. Para uma Decision Tree normal, utilizam-se todos os dados de um determinado database somente uma vez e em ordem, enquanto em uma Random Forest, para “treinar” as Decision Trees, os dados a ela fornecidos vem de forma aleatória, e muitas vezes o mesmo dado é fornecido mais de uma vez para que as Trees se calibrem e sejam mais eficientes, reduzindo a variância das leituras. Além disso, a medição obtida pela Random Forest é um cálculo da média aritmética das previsões das Decision Trees que a compõem.\n",
    "\n",
    "\n",
    "Um outro aspecto que diferenciam as Random Forests são o número de perguntas em cada Decision Tree. Enquanto em Decision Trees fora da Forest são levados em conta todos as labels do database, na Random Forest, cada Decision Tree tem a raiz quadrada do número total de labels, além do fato de que as labels a serem utilizadas são escolhidas aleatoriamente, criando assim diferentes tipos de filtros.\n",
    "\n",
    "A utilização de Random Forests é mais preferível, tendo em vista que os dados serão tratados e filtrados centenas de vezes, considerando combinações de variáveis diversas, com cada Tree calibrada de um jeito diferente, trazendo outputs diferentes.\n"
   ]
  },
  {
   "cell_type": "markdown",
   "metadata": {},
   "source": [
    "## 3.1 Regressão Simples \n",
    "\n",
    "Como observado anteriormente, podemos considerar que as variáveis budget e revenue tem uma forte correlação e talvez uma reta possa ser um bom ajuste neste caso. \n",
    "\n",
    "O nosso objetivo em um primeiro momento é prever a receita de um filme em função do seu orçamento, a partir do modelo de regressao linear simples. Neste caso sao definidas como variáveis:\n",
    "\n",
    "\n",
    "* ***y -*** **Variável independente (explicativa)**: Budget\n",
    "* ***x -*** **Variável dependente (target)**: Revenue\n",
    " \n",
    "\n",
    "### Teste de hipótese e suposicoes do modelo\n",
    "\n",
    "Para avaliar a significancia da regressao vamos realizar um teste de hipóteses. Assumindo que:\n",
    "\n",
    "* H0: β1 = 0 - não há relação entre receita e orçamento\n",
    "* HA: β1 ≠ 0 - há relação entre receita e orçamento\n",
    "\n",
    "\n",
    "Para realizar o teste de hipóteses é necessário analisar a distribuição dos erros, além das seguintes suposicoes do modelo:\n",
    "\n",
    "* Os erros têm distribuição normal com média e variância constantes, ou seja, ei ~ N(0,s2).\n",
    "* Os erros são independentes entre si, ou seja, Corr(ei , ej) = 0, para qualquer i ≠ j.\n",
    "* O modelo é linear nos parâmetros.\n",
    "* Homocedasticidade: Var(ei) = s2 para qualquer i\n",
    "\n",
    "Seguindo a diante em nosso modelo de regressão, vamos utilizar a função OLS da biblioteca ststsmodel, para definir os valores de beta1 e beta0, baseado no método dos mínimos quadrados."
   ]
  },
  {
   "cell_type": "code",
   "execution_count": 100,
   "metadata": {},
   "outputs": [],
   "source": [
    "m_rl = metadados.loc[:,['revenue','budget']].replace(0, np.nan)\n",
    "m_rl = m_rl.loc[:,['revenue','budget']].dropna()"
   ]
  },
  {
   "cell_type": "code",
   "execution_count": 101,
   "metadata": {},
   "outputs": [],
   "source": [
    "x_dados_rl = m_rl.budget # Definindo budget como explicativa\n",
    "y_dados_rl = m_rl.revenue #Definindo revenue como target"
   ]
  },
  {
   "cell_type": "code",
   "execution_count": 103,
   "metadata": {},
   "outputs": [
    {
     "data": {
      "text/plain": [
       "(5393,)"
      ]
     },
     "execution_count": 103,
     "metadata": {},
     "output_type": "execute_result"
    }
   ],
   "source": [
    "x_dados_rl.shape"
   ]
  },
  {
   "cell_type": "code",
   "execution_count": 102,
   "metadata": {},
   "outputs": [
    {
     "data": {
      "text/html": [
       "<table class=\"simpletable\">\n",
       "<caption>OLS Regression Results</caption>\n",
       "<tr>\n",
       "  <th>Dep. Variable:</th>         <td>revenue</td>     <th>  R-squared:         </th>  <td>   0.533</td>  \n",
       "</tr>\n",
       "<tr>\n",
       "  <th>Model:</th>                   <td>OLS</td>       <th>  Adj. R-squared:    </th>  <td>   0.533</td>  \n",
       "</tr>\n",
       "<tr>\n",
       "  <th>Method:</th>             <td>Least Squares</td>  <th>  F-statistic:       </th>  <td>   6159.</td>  \n",
       "</tr>\n",
       "<tr>\n",
       "  <th>Date:</th>             <td>Thu, 11 Jun 2020</td> <th>  Prob (F-statistic):</th>   <td>  0.00</td>   \n",
       "</tr>\n",
       "<tr>\n",
       "  <th>Time:</th>                 <td>21:53:43</td>     <th>  Log-Likelihood:    </th> <td>-1.0767e+05</td>\n",
       "</tr>\n",
       "<tr>\n",
       "  <th>No. Observations:</th>      <td>  5393</td>      <th>  AIC:               </th>  <td>2.153e+05</td> \n",
       "</tr>\n",
       "<tr>\n",
       "  <th>Df Residuals:</th>          <td>  5391</td>      <th>  BIC:               </th>  <td>2.154e+05</td> \n",
       "</tr>\n",
       "<tr>\n",
       "  <th>Df Model:</th>              <td>     1</td>      <th>                     </th>      <td> </td>     \n",
       "</tr>\n",
       "<tr>\n",
       "  <th>Covariance Type:</th>      <td>nonrobust</td>    <th>                     </th>      <td> </td>     \n",
       "</tr>\n",
       "</table>\n",
       "<table class=\"simpletable\">\n",
       "<tr>\n",
       "     <td></td>       <th>coef</th>     <th>std err</th>      <th>t</th>      <th>P>|t|</th>  <th>[0.025</th>    <th>0.975]</th>  \n",
       "</tr>\n",
       "<tr>\n",
       "  <th>const</th>  <td>-3.677e+06</td> <td> 1.95e+06</td> <td>   -1.883</td> <td> 0.060</td> <td>-7.51e+06</td> <td> 1.52e+05</td>\n",
       "</tr>\n",
       "<tr>\n",
       "  <th>budget</th> <td>    3.0207</td> <td>    0.038</td> <td>   78.480</td> <td> 0.000</td> <td>    2.945</td> <td>    3.096</td>\n",
       "</tr>\n",
       "</table>\n",
       "<table class=\"simpletable\">\n",
       "<tr>\n",
       "  <th>Omnibus:</th>       <td>4652.001</td> <th>  Durbin-Watson:     </th>  <td>   1.963</td> \n",
       "</tr>\n",
       "<tr>\n",
       "  <th>Prob(Omnibus):</th>  <td> 0.000</td>  <th>  Jarque-Bera (JB):  </th> <td>359516.514</td>\n",
       "</tr>\n",
       "<tr>\n",
       "  <th>Skew:</th>           <td> 3.712</td>  <th>  Prob(JB):          </th>  <td>    0.00</td> \n",
       "</tr>\n",
       "<tr>\n",
       "  <th>Kurtosis:</th>       <td>42.304</td>  <th>  Cond. No.          </th>  <td>6.42e+07</td> \n",
       "</tr>\n",
       "</table><br/><br/>Warnings:<br/>[1] Standard Errors assume that the covariance matrix of the errors is correctly specified.<br/>[2] The condition number is large, 6.42e+07. This might indicate that there are<br/>strong multicollinearity or other numerical problems."
      ],
      "text/plain": [
       "<class 'statsmodels.iolib.summary.Summary'>\n",
       "\"\"\"\n",
       "                            OLS Regression Results                            \n",
       "==============================================================================\n",
       "Dep. Variable:                revenue   R-squared:                       0.533\n",
       "Model:                            OLS   Adj. R-squared:                  0.533\n",
       "Method:                 Least Squares   F-statistic:                     6159.\n",
       "Date:                Thu, 11 Jun 2020   Prob (F-statistic):               0.00\n",
       "Time:                        21:53:43   Log-Likelihood:            -1.0767e+05\n",
       "No. Observations:                5393   AIC:                         2.153e+05\n",
       "Df Residuals:                    5391   BIC:                         2.154e+05\n",
       "Df Model:                           1                                         \n",
       "Covariance Type:            nonrobust                                         \n",
       "==============================================================================\n",
       "                 coef    std err          t      P>|t|      [0.025      0.975]\n",
       "------------------------------------------------------------------------------\n",
       "const      -3.677e+06   1.95e+06     -1.883      0.060   -7.51e+06    1.52e+05\n",
       "budget         3.0207      0.038     78.480      0.000       2.945       3.096\n",
       "==============================================================================\n",
       "Omnibus:                     4652.001   Durbin-Watson:                   1.963\n",
       "Prob(Omnibus):                  0.000   Jarque-Bera (JB):           359516.514\n",
       "Skew:                           3.712   Prob(JB):                         0.00\n",
       "Kurtosis:                      42.304   Cond. No.                     6.42e+07\n",
       "==============================================================================\n",
       "\n",
       "Warnings:\n",
       "[1] Standard Errors assume that the covariance matrix of the errors is correctly specified.\n",
       "[2] The condition number is large, 6.42e+07. This might indicate that there are\n",
       "strong multicollinearity or other numerical problems.\n",
       "\"\"\""
      ]
     },
     "execution_count": 102,
     "metadata": {},
     "output_type": "execute_result"
    }
   ],
   "source": [
    "### Função utilitária para fazer a regressão com constante adicionada\n",
    "def regress(X,Y):\n",
    "    X_cp = sm.add_constant(X)\n",
    "    model = sm.OLS(Y,X_cp)\n",
    "    results = model.fit()\n",
    "    return results\n",
    "\n",
    "results = regress(x_dados_rl,y_dados_rl)\n",
    "results.summary()"
   ]
  },
  {
   "cell_type": "markdown",
   "metadata": {},
   "source": [
    "#### Definicao de b0 e b1\n",
    "\n",
    "Como beta1 não é igual a zero, podemos rejeitar a hipotese nula, ou seja, há uma relacao entre x e y."
   ]
  },
  {
   "cell_type": "code",
   "execution_count": 105,
   "metadata": {},
   "outputs": [
    {
     "name": "stdout",
     "output_type": "stream",
     "text": [
      "Estimativa de beta0 (coeficente linear): -3677237.1403064583\n",
      "Estimativa de beta1 (coeficente angular): 3.0207001608961206\n"
     ]
    }
   ],
   "source": [
    "beta0 = results.params['const']\n",
    "beta1 = results.params['budget']\n",
    "\n",
    "print(\"Estimativa de beta0 (coeficente linear): {0}\".format(beta0))\n",
    "print(\"Estimativa de beta1 (coeficente angular): {0}\".format(beta1))"
   ]
  },
  {
   "cell_type": "markdown",
   "metadata": {},
   "source": [
    "#### Análise valor p\n",
    "\n",
    "Definindo o nivel de significancia em 10%, temos que o valor-p é menor que alfa, logo rejeita-se H0"
   ]
  },
  {
   "cell_type": "code",
   "execution_count": null,
   "metadata": {},
   "outputs": [],
   "source": [
    "valorp_beta0 = results.pvalues['const']\n",
    "valorp_beta1 = results.pvalues['budget']\n",
    "\n",
    "print('Valor-p sob H0: beta0 = 0: {:.6f}'.format(valorp_beta0))\n",
    "print('Valor-p sob H0: beta1 = 0: {:.6f}'.format(valorp_beta1))"
   ]
  },
  {
   "cell_type": "markdown",
   "metadata": {},
   "source": [
    "#### Análise teste Omnibus e Jarque-bera\n",
    "Em ambos os testes analisaremos a normalidade dos residuos. Como o valor Prob(JB) e Prob(Ominibus) sao muito baixos, existe evidencia que os residuos não seguem uma distribuição normal, infringindo uma das suposições do modelo.\n"
   ]
  },
  {
   "cell_type": "markdown",
   "metadata": {},
   "source": [
    "#### Reta com os valores de y preditos"
   ]
  },
  {
   "cell_type": "code",
   "execution_count": 111,
   "metadata": {
    "scrolled": true
   },
   "outputs": [
    {
     "data": {
      "image/png": "[encoded data removed]",
      "text/plain": [
       "<Figure size 432x288 with 1 Axes>"
      ]
     },
     "metadata": {
      "needs_background": "light"
     },
     "output_type": "display_data"
    }
   ],
   "source": [
    "#valores preditos de receita\n",
    "ypredict = results.predict(sm.add_constant(x_dados_rl))\n",
    "\n",
    "#plotando grafico\n",
    "plt.scatter(x_dados_rl,y_dados_rl, alpha=0.4)\n",
    "plt.plot(x_dados_rl, ypredict, color='red')\n",
    "plt.show()"
   ]
  },
  {
   "cell_type": "markdown",
   "metadata": {},
   "source": [
    "#### Análise de resíduos\n",
    "\n",
    "Ao analisar os gráficos abaixo, é possível observar que os residuos nao se distribuem normalmente e tem um sigma2 variavel, uma vez que a variancia dos residuos esta crescendo conforme y aumenta, indicando a nao homocedasticidade suposta pelo modelo de regressao"
   ]
  },
  {
   "cell_type": "code",
   "execution_count": 112,
   "metadata": {},
   "outputs": [
    {
     "data": {
      "image/png": "[encoded data removed]",
      "text/plain": [
       "<Figure size 432x288 with 1 Axes>"
      ]
     },
     "metadata": {
      "needs_background": "light"
     },
     "output_type": "display_data"
    }
   ],
   "source": [
    "stats.probplot(results.resid, dist='norm', plot=plt);"
   ]
  },
  {
   "cell_type": "code",
   "execution_count": 113,
   "metadata": {},
   "outputs": [
    {
     "data": {
      "image/png": "[encoded data removed]",
      "text/plain": [
       "<Figure size 720x360 with 2 Axes>"
      ]
     },
     "metadata": {
      "needs_background": "light"
     },
     "output_type": "display_data"
    }
   ],
   "source": [
    "fig = plt.figure(figsize=(10,5))\n",
    "plt.subplot(121)\n",
    "plt.scatter(ypredict, results.resid,alpha=0.4);\n",
    "plt.axhline(y=0,color='r',linestyle='-'); \n",
    "\n",
    "plt.subplot(122)\n",
    "plt.scatter(x_dados_rl, results.resid, alpha=0.4);\n",
    "plt.axhline(y=0,color='r',linestyle='-'); \n",
    "\n",
    "plt.tight_layout()\n",
    "plt.show()"
   ]
  },
  {
   "cell_type": "markdown",
   "metadata": {},
   "source": [
    "### Conclusão do modelo de Regressão Linear simples\n",
    "\n",
    "A conclusão do ajuste anterior é que as suposições de normalidade\n",
    "(via teste de hipóteses) e de homocedasticidade (graficamente) não estão válidas, sendo o modelo ajustado que relaciona como a receita de um filme  pode ser explicado pelo orçamento **não** deve ser considerado para tomada de decisões. Portando, o ideal é procurar por um modelo mais robusto para prever a receita"
   ]
  },
  {
   "cell_type": "markdown",
   "metadata": {},
   "source": [
    "## 3.2 Random Forest Classifier, Decision Tree Classifier e KNeighbors Classifier\n",
    "\n",
    "Importando as bibliotecas para este passo:"
   ]
  },
  {
   "cell_type": "code",
   "execution_count": 114,
   "metadata": {},
   "outputs": [],
   "source": [
    "from sklearn.ensemble import RandomForestClassifier\n",
    "from sklearn.tree import DecisionTreeClassifier\n",
    "from sklearn.neighbors import KNeighborsClassifier\n",
    "from pprint import pprint\n",
    "from sklearn.metrics import confusion_matrix\n",
    "import matplotlib.pyplot as plt\n",
    "\n",
    "\n",
    "FIT_MODELS = 1\n",
    "PLOT_CONFUSION_MATRIXES = 1\n",
    "PRECISION_AT_N = 1"
   ]
  },
  {
   "cell_type": "code",
   "execution_count": 116,
   "metadata": {},
   "outputs": [
    {
     "data": {
      "text/plain": [
       "Index(['belongs_to_collection', 'budget', 'genres', 'original_language',\n",
       "       'production_companies', 'revenue', 'runtime', 'title', 'cast',\n",
       "       'cast_size', 'crew_size', 'director', 'year', 'week', 'month'],\n",
       "      dtype='object')"
      ]
     },
     "execution_count": 116,
     "metadata": {},
     "output_type": "execute_result"
    }
   ],
   "source": [
    "metadados.columns"
   ]
  },
  {
   "cell_type": "code",
   "execution_count": 145,
   "metadata": {},
   "outputs": [],
   "source": [
    "# definindo as variáveis quantitativas a serem utilizadas\n",
    "quant = ['belongs_to_collection', 'budget', 'runtime', 'revenue', 'year', 'week','month', 'cast_size', 'crew_size']"
   ]
  },
  {
   "cell_type": "code",
   "execution_count": 146,
   "metadata": {},
   "outputs": [],
   "source": [
    "#removendo nans\n",
    "met = metadados.loc[:,quant].dropna()"
   ]
  },
  {
   "cell_type": "code",
   "execution_count": 147,
   "metadata": {},
   "outputs": [
    {
     "data": {
      "text/html": [
       "<div>\n",
       "<style scoped>\n",
       "    .dataframe tbody tr th:only-of-type {\n",
       "        vertical-align: middle;\n",
       "    }\n",
       "\n",
       "    .dataframe tbody tr th {\n",
       "        vertical-align: top;\n",
       "    }\n",
       "\n",
       "    .dataframe thead th {\n",
       "        text-align: right;\n",
       "    }\n",
       "</style>\n",
       "<table border=\"1\" class=\"dataframe\">\n",
       "  <thead>\n",
       "    <tr style=\"text-align: right;\">\n",
       "      <th></th>\n",
       "      <th>belongs_to_collection</th>\n",
       "      <th>budget</th>\n",
       "      <th>genres</th>\n",
       "      <th>original_language</th>\n",
       "      <th>production_companies</th>\n",
       "      <th>revenue</th>\n",
       "      <th>runtime</th>\n",
       "      <th>title</th>\n",
       "      <th>cast</th>\n",
       "      <th>cast_size</th>\n",
       "      <th>crew_size</th>\n",
       "      <th>director</th>\n",
       "      <th>year</th>\n",
       "      <th>week</th>\n",
       "      <th>month</th>\n",
       "    </tr>\n",
       "    <tr>\n",
       "      <th>id</th>\n",
       "      <th></th>\n",
       "      <th></th>\n",
       "      <th></th>\n",
       "      <th></th>\n",
       "      <th></th>\n",
       "      <th></th>\n",
       "      <th></th>\n",
       "      <th></th>\n",
       "      <th></th>\n",
       "      <th></th>\n",
       "      <th></th>\n",
       "      <th></th>\n",
       "      <th></th>\n",
       "      <th></th>\n",
       "      <th></th>\n",
       "    </tr>\n",
       "  </thead>\n",
       "  <tbody>\n",
       "    <tr>\n",
       "      <th>862</th>\n",
       "      <td>1</td>\n",
       "      <td>30000000.0</td>\n",
       "      <td>[Animation, Comedy, Family]</td>\n",
       "      <td>en</td>\n",
       "      <td>[Pixar Animation Studios]</td>\n",
       "      <td>373554033.0</td>\n",
       "      <td>81.0</td>\n",
       "      <td>Toy Story</td>\n",
       "      <td>[Tom Hanks, Tim Allen, Don Rickles]</td>\n",
       "      <td>13</td>\n",
       "      <td>106</td>\n",
       "      <td>John Lasseter</td>\n",
       "      <td>1995.0</td>\n",
       "      <td>44.0</td>\n",
       "      <td>10.0</td>\n",
       "    </tr>\n",
       "    <tr>\n",
       "      <th>8844</th>\n",
       "      <td>0</td>\n",
       "      <td>65000000.0</td>\n",
       "      <td>[Adventure, Fantasy, Family]</td>\n",
       "      <td>en</td>\n",
       "      <td>[TriStar Pictures, Teitler Film, Interscope Co...</td>\n",
       "      <td>262797249.0</td>\n",
       "      <td>104.0</td>\n",
       "      <td>Jumanji</td>\n",
       "      <td>[Robin Williams, Jonathan Hyde, Kirsten Dunst]</td>\n",
       "      <td>26</td>\n",
       "      <td>16</td>\n",
       "      <td>Joe Johnston</td>\n",
       "      <td>1995.0</td>\n",
       "      <td>50.0</td>\n",
       "      <td>12.0</td>\n",
       "    </tr>\n",
       "    <tr>\n",
       "      <th>31357</th>\n",
       "      <td>0</td>\n",
       "      <td>16000000.0</td>\n",
       "      <td>[Comedy, Drama, Romance]</td>\n",
       "      <td>en</td>\n",
       "      <td>[Twentieth Century Fox Film Corporation]</td>\n",
       "      <td>81452156.0</td>\n",
       "      <td>127.0</td>\n",
       "      <td>Waiting to Exhale</td>\n",
       "      <td>[Whitney Houston, Angela Bassett, Loretta Devine]</td>\n",
       "      <td>10</td>\n",
       "      <td>10</td>\n",
       "      <td>Forest Whitaker</td>\n",
       "      <td>1995.0</td>\n",
       "      <td>51.0</td>\n",
       "      <td>12.0</td>\n",
       "    </tr>\n",
       "    <tr>\n",
       "      <th>11862</th>\n",
       "      <td>1</td>\n",
       "      <td>NaN</td>\n",
       "      <td>[Comedy]</td>\n",
       "      <td>en</td>\n",
       "      <td>[Sandollar Productions, Touchstone Pictures]</td>\n",
       "      <td>76578911.0</td>\n",
       "      <td>106.0</td>\n",
       "      <td>Father of the Bride Part II</td>\n",
       "      <td>[Steve Martin, Diane Keaton, Martin Short]</td>\n",
       "      <td>12</td>\n",
       "      <td>7</td>\n",
       "      <td>Charles Shyer</td>\n",
       "      <td>1995.0</td>\n",
       "      <td>6.0</td>\n",
       "      <td>2.0</td>\n",
       "    </tr>\n",
       "    <tr>\n",
       "      <th>949</th>\n",
       "      <td>0</td>\n",
       "      <td>60000000.0</td>\n",
       "      <td>[Action, Crime, Drama, Thriller]</td>\n",
       "      <td>en</td>\n",
       "      <td>[Regency Enterprises, Forward Pass, Warner Bros.]</td>\n",
       "      <td>187436818.0</td>\n",
       "      <td>170.0</td>\n",
       "      <td>Heat</td>\n",
       "      <td>[Al Pacino, Robert De Niro, Val Kilmer]</td>\n",
       "      <td>65</td>\n",
       "      <td>71</td>\n",
       "      <td>Michael Mann</td>\n",
       "      <td>1995.0</td>\n",
       "      <td>50.0</td>\n",
       "      <td>12.0</td>\n",
       "    </tr>\n",
       "  </tbody>\n",
       "</table>\n",
       "</div>"
      ],
      "text/plain": [
       "       belongs_to_collection      budget                            genres  \\\n",
       "id                                                                           \n",
       "862                        1  30000000.0       [Animation, Comedy, Family]   \n",
       "8844                       0  65000000.0      [Adventure, Fantasy, Family]   \n",
       "31357                      0  16000000.0          [Comedy, Drama, Romance]   \n",
       "11862                      1         NaN                          [Comedy]   \n",
       "949                        0  60000000.0  [Action, Crime, Drama, Thriller]   \n",
       "\n",
       "      original_language                               production_companies  \\\n",
       "id                                                                           \n",
       "862                  en                          [Pixar Animation Studios]   \n",
       "8844                 en  [TriStar Pictures, Teitler Film, Interscope Co...   \n",
       "31357                en           [Twentieth Century Fox Film Corporation]   \n",
       "11862                en       [Sandollar Productions, Touchstone Pictures]   \n",
       "949                  en  [Regency Enterprises, Forward Pass, Warner Bros.]   \n",
       "\n",
       "           revenue  runtime                        title  \\\n",
       "id                                                         \n",
       "862    373554033.0     81.0                    Toy Story   \n",
       "8844   262797249.0    104.0                      Jumanji   \n",
       "31357   81452156.0    127.0            Waiting to Exhale   \n",
       "11862   76578911.0    106.0  Father of the Bride Part II   \n",
       "949    187436818.0    170.0                         Heat   \n",
       "\n",
       "                                                    cast  cast_size  \\\n",
       "id                                                                    \n",
       "862                  [Tom Hanks, Tim Allen, Don Rickles]         13   \n",
       "8844      [Robin Williams, Jonathan Hyde, Kirsten Dunst]         26   \n",
       "31357  [Whitney Houston, Angela Bassett, Loretta Devine]         10   \n",
       "11862         [Steve Martin, Diane Keaton, Martin Short]         12   \n",
       "949              [Al Pacino, Robert De Niro, Val Kilmer]         65   \n",
       "\n",
       "       crew_size         director    year  week  month  \n",
       "id                                                      \n",
       "862          106    John Lasseter  1995.0  44.0   10.0  \n",
       "8844          16     Joe Johnston  1995.0  50.0   12.0  \n",
       "31357         10  Forest Whitaker  1995.0  51.0   12.0  \n",
       "11862          7    Charles Shyer  1995.0   6.0    2.0  \n",
       "949           71     Michael Mann  1995.0  50.0   12.0  "
      ]
     },
     "execution_count": 147,
     "metadata": {},
     "output_type": "execute_result"
    }
   ],
   "source": [
    "metadados.head()"
   ]
  },
  {
   "cell_type": "code",
   "execution_count": 148,
   "metadata": {},
   "outputs": [],
   "source": [
    "quant_x = quant.copy()\n",
    "quant_x.remove('revenue')"
   ]
  },
  {
   "cell_type": "code",
   "execution_count": 152,
   "metadata": {},
   "outputs": [],
   "source": [
    "X = met.loc[:,quant].astype(int)\n",
    "Y = met.revenue.astype(int)"
   ]
  },
  {
   "cell_type": "code",
   "execution_count": 154,
   "metadata": {},
   "outputs": [],
   "source": [
    "if FIT_MODELS:\n",
    "    \n",
    "#Random Forest\n",
    "    randf = RandomForestClassifier(n_jobs=-1, random_state=0, n_estimators = 100)\n",
    "    randf.fit(X, Y)\n",
    "\n",
    "# Decision Tree\n",
    "    tree = DecisionTreeClassifier(random_state=0)\n",
    "    tree.fit(X, Y)\n",
    "    \n",
    "# KNearestNeighbors\n",
    "    neigh = KNeighborsClassifier(n_neighbors=5)\n",
    "    neigh.fit(X, Y)"
   ]
  },
  {
   "cell_type": "markdown",
   "metadata": {},
   "source": [
    "Armazenando os dados de forma mais facíl para utilização:"
   ]
  },
  {
   "cell_type": "code",
   "execution_count": null,
   "metadata": {},
   "outputs": [],
   "source": [
    "if FIT_MODELS:\n",
    "    models = {'Random Forest': randf,\n",
    "            'KNearestNeighbors': neigh,\n",
    "            'Decision Tree': tree}\n",
    "    for model_name, model in models.items():\n",
    "        np.save('Assets/files/' + model_name, model, allow_pickle=True)\n",
    "else:\n",
    "    models = {}\n",
    "    for k in ['Random Forest', 'KNearestNeighbors', 'Decision Tree']:\n",
    "        models[k] = np.load('Assets/files/' + k + '.npy', allow_pickle=True)"
   ]
  },
  {
   "cell_type": "markdown",
   "metadata": {},
   "source": [
    "### Analisando as classificações feitas:\n",
    "\n",
    "A matriz de confusão abaixo mostra em mais detalhes os erros e acertos do classificador.\n",
    "\n",
    "###### Obs: A função *plot_confusion_matrix* abaixo não é de nossa autoria, e sua versão original pode ser encontrada no seguinte endereço: https://scikit-learn.org/stable/auto_examples/model_selection/plot_confusion_matrix.html"
   ]
  },
  {
   "cell_type": "code",
   "execution_count": null,
   "metadata": {},
   "outputs": [],
   "source": [
    "def plot_confusion_matrix(y_true, y_pred, classes,\n",
    "                          normalize=True,\n",
    "                          title=None,\n",
    "                          cmap=plt.cm.Greens, save_to_file = True):\n",
    "    if not title:\n",
    "        if normalize:\n",
    "            title = 'Normalized confusion matrix'\n",
    "        else:\n",
    "            title = 'Confusion matrix, without normalization'\n",
    "\n",
    "    # Compute confusion matrix\n",
    "    cm = confusion_matrix(y_true, y_pred)\n",
    "    if normalize:\n",
    "        cm = cm.astype('float') / cm.sum(axis=1)[:, np.newaxis]\n",
    "        #print(\"Normalized confusion matrix\")\n",
    "    else:\n",
    "        print('Confusion matrix, without normalization')\n",
    "\n",
    "    #print(cm)\n",
    "\n",
    "    fig, ax = plt.subplots(figsize = (16,16))\n",
    "    im = ax.imshow(cm, interpolation='nearest', cmap=cmap)\n",
    "    ax.figure.colorbar(im, ax=ax)\n",
    "    ax.set(xticks=np.arange(cm.shape[1]),\n",
    "           yticks=np.arange(cm.shape[0]),\n",
    "           xticklabels=classes, yticklabels=classes,\n",
    "           title=title,\n",
    "           ylabel='True label',\n",
    "           xlabel='Predicted label')\n",
    "\n",
    "    plt.setp(ax.get_xticklabels(), rotation=45, ha=\"right\",\n",
    "             rotation_mode=\"anchor\")\n",
    "\n",
    "    fmt = '.2f' if normalize else 'd'\n",
    "    thresh = cm.max() / 2.\n",
    "    for i in range(cm.shape[0]):\n",
    "        for j in range(cm.shape[1]):\n",
    "            ax.text(j, i, format(cm[i, j], fmt),\n",
    "                    ha=\"center\", va=\"center\",\n",
    "                    color=\"white\" if cm[i, j] > thresh else \"black\")\n",
    "    fig.tight_layout()\n",
    "    if save_to_file:\n",
    "        plt.savefig('Assets/files/' + title + '.pdf')\n",
    "    return ax\n",
    "\n",
    "def multi_confusion_mtx(X, Y, model_dict):\n",
    "    for k,v in model_dict.items():\n",
    "        plot_confusion_matrix(Y, v.predict(X), classes=v.classes_,\n",
    "                            title=k)\n",
    "        plt.show()\n",
    "\n",
    "def precision_at_n(model, n = 3, X_test = X, y_test = Y):\n",
    "    prediction = model.predict_proba(X_test)\n",
    "    prediction_at_n = []\n",
    "    for k in prediction:\n",
    "        prediction_at_n.append(pd.Series(k, index = CLASSES).nlargest(n).index.tolist())\n",
    "    hits, misses = 0, 0\n",
    "    for guess, answer in zip(prediction_at_n, y_test):\n",
    "        if answer in guess:\n",
    "            hits += 1\n",
    "        else:\n",
    "            misses += 1\n",
    "    return hits/(hits+misses)\n",
    "\n",
    "def show_guess(path, model):\n",
    "    return pd.Series(model.predict_proba(show_example(path))[0], index = model.classes_).sort_values(ascending = False)\n",
    "\n",
    "np.set_printoptions(precision=2)"
   ]
  },
  {
   "cell_type": "code",
   "execution_count": null,
   "metadata": {},
   "outputs": [],
   "source": [
    "models = {'Random Forest': randf,\n",
    "            'KNearestNeighbors': neigh,\n",
    "            'Decision Tree': tree}"
   ]
  },
  {
   "cell_type": "code",
   "execution_count": null,
   "metadata": {},
   "outputs": [],
   "source": [
    "for model_name, model in models.items():\n",
    "    print(\"%s score of: %.5f\" % (model_name, model.score(X, Y)))"
   ]
  }
 ],
 "metadata": {
  "kernelspec": {
   "display_name": "Python 3",
   "language": "python",
   "name": "python3"
  },
  "language_info": {
   "codemirror_mode": {
    "name": "ipython",
    "version": 3
   },
   "file_extension": ".py",
   "mimetype": "text/x-python",
   "name": "python",
   "nbconvert_exporter": "python",
   "pygments_lexer": "ipython3",
   "version": "3.7.1"
  }
 },
 "nbformat": 4,
 "nbformat_minor": 2
}
