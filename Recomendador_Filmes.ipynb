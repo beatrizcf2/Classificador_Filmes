{
 "cells": [
  {
   "cell_type": "markdown",
   "metadata": {},
   "source": [
    "# SISTEMA DE RECOMENDAÇÃO DE FILMES"
   ]
  },
  {
   "cell_type": "markdown",
   "metadata": {},
   "source": [
    "## A. Introdução\n",
    "• Detalhar objetivo escolhido para trabalhar neste projeto juntamente com descrição da\n",
    "base de dados. Pesquise trabalhos na literatura que discutam o tema escolhido. Para\n",
    "trabalhos acadêmicos, acesse https://scholar.google.com.br/. Guarde as referências\n",
    "estudadas para citá-las no projeto.\n",
    "\n",
    "\n",
    "## B. Minerando Dados e Características do Dataset\n",
    "• Se necessário, faça filtro na base de dados tanto de linhas como de colunas em prol do\n",
    "objetivo traçado anteriormente.\n",
    "• Descreva as variáveis finais que serão utilizadas a partir deste ponto.\n",
    "• Faça análise descritiva detalhada das variáveis, norteado pelo objetivo do problema.\n",
    "\n",
    "\n",
    "## C. Modelos de Predição\n",
    "• Descreva e justifique sua escolha de modelos de predição. Exemplos de modelos (os\n",
    "exemplos a seguir são utilizados neste trabalho, mas você pode usar outros que fizerem\n",
    "mais sentido para o seu problema):\n",
    "o Modelo de predição pela média (sem uso de variável explicativa);\n",
    "o Modelo de regressão linear (Multiple Linear Regression);\n",
    "o Modelo de árvores de regressão (Decision Tree Regression).\n",
    "\n",
    "\n",
    "## D. Processo e Estatísticas de Validação\n",
    "• Para os modelos preditivos que foram desenvolvidos no item anterior, é necessário\n",
    "calcular medidas que informam a performance de cada modelo ajustado. Assim, para\n",
    "cada modelo preditivo, faça:\n",
    "o Divida a base de dados na parte treinamento e na parte teste. Use a parte\n",
    "treinamento para estimar cada modelo preditivo.\n",
    "o Estude as medidas coeficiente de determinação (R2) e raiz do erro médio\n",
    "quadrático (RMS) descritas aqui. Calcule essas medidas tanto para a parte dos\n",
    "dados de treinamento como para a parte dos dados teste.\n",
    "o Discuta se essas duas medidas se comportam de forma semelhante para as duas\n",
    "partes de dados. Leia o texto disponível aqui para compreender overfitting e\n",
    "underfitting e, com isso, refinar senso crítico para discutir sobre as medidas\n",
    "calculadas.\n",
    "o Extra: Faça o processo de Validação Cruzada utilizando também 10 ciclos e\n",
    "calcule a performance média e desvio padrão das duas medidas R2 e RMS tanto\n",
    "para a parte treinamento como para a parte teste. Discuta com riqueza de\n",
    "detalhes.\n",
    "\n",
    "\n",
    "## E. Conclusão\n",
    "• Faça conclusão final com detalhes levando em consideração todas as interpretações\n",
    "realizadas no decorrer do projeto.\n",
    "\n",
    "\n",
    "## F. Referências Bibliográficas\n",
    "• Todas as pesquisas feitas e estudadas que foram relevantes para o desenvolvimento\n",
    "devem ser citadas no projeto."
   ]
  },
  {
   "cell_type": "code",
   "execution_count": null,
   "metadata": {},
   "outputs": [],
   "source": []
  }
 ],
 "metadata": {
  "kernelspec": {
   "display_name": "Python 3",
   "language": "python",
   "name": "python3"
  },
  "language_info": {
   "codemirror_mode": {
    "name": "ipython",
    "version": 3
   },
   "file_extension": ".py",
   "mimetype": "text/x-python",
   "name": "python",
   "nbconvert_exporter": "python",
   "pygments_lexer": "ipython3",
   "version": "3.7.1"
  }
 },
 "nbformat": 4,
 "nbformat_minor": 2
}
