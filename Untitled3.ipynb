{
 "cells": [
  {
   "cell_type": "markdown",
   "metadata": {},
   "source": [
    "# PROJETO 2 - Predição da Receita de um Filme\n",
    "\n",
    "## Introdução\n",
    "O principal objetivo deste projeto é criar um sistema simples de recomendacao de filmes. Atualmente, é possível encontrar esses sistemas de recomendacao em uma grande parte dos sites que visitamos, como por exemplo uma plataforma de streaming faz para recomendar filmes a um determinado usuário, ou até mesmo em um site de compras, quando é oferecido produtos que você provavelmente irá gostar. A partir disso, guiaremos nosso projeto utilizando técnicas de machine learning, visando alcancar esse objetivo."
   ]
  }
 ],
 "metadata": {
  "kernelspec": {
   "display_name": "Python 3",
   "language": "python",
   "name": "python3"
  },
  "language_info": {
   "codemirror_mode": {
    "name": "ipython",
    "version": 3
   },
   "file_extension": ".py",
   "mimetype": "text/x-python",
   "name": "python",
   "nbconvert_exporter": "python",
   "pygments_lexer": "ipython3",
   "version": "3.7.1"
  }
 },
 "nbformat": 4,
 "nbformat_minor": 2
}
